{
 "cells": [
  {
   "cell_type": "code",
   "execution_count": null,
   "metadata": {
    "scrolled": true
   },
   "outputs": [],
   "source": [
    "import os, numpy as np, pandas as pd\n",
    "import bokeh\n",
    "import holoviews as hv\n",
    "from bokeh.models import HoverTool, CustomJSHover\n",
    "import xarray as xr\n",
    "from oggm.utils import tolist\n",
    "from collections import OrderedDict\n",
    "import panel as pn\n",
    "hv.extension('bokeh')"
   ]
  },
  {
   "cell_type": "code",
   "execution_count": null,
   "metadata": {},
   "outputs": [],
   "source": [
    "from international import trads\n",
    "language = 'en'"
   ]
  },
  {
   "cell_type": "markdown",
   "metadata": {},
   "source": [
    "## Read the data "
   ]
  },
  {
   "cell_type": "markdown",
   "metadata": {},
   "source": [
    "Data sources:\n",
    "- volume change: [Zekollari, H., Huss, M., and Farinotti, D.: Modelling the future evolution of glaciers in the European Alps under the EURO-CORDEX RCM ensemble, The Cryosphere, 13, 1125–1146, https://doi.org/10.5194/tc-13-1125-2019, 2019. ](https://www.the-cryosphere.net/13/1125/2019/)\n",
    "- glacier locations: [Randolph Glacier Inventory](https://www.glims.org/RGI/)"
   ]
  },
  {
   "cell_type": "code",
   "execution_count": null,
   "metadata": {
    "scrolled": true
   },
   "outputs": [],
   "source": [
    "data = pd.read_hdf('./data/rgi62_era5_itmix_country_df.h5', 'df')\n",
    "data['vol_itmix_km3'] = data['vol_itmix_m3'] * 1e-9"
   ]
  },
  {
   "cell_type": "markdown",
   "metadata": {},
   "source": [
    "Select the Alps only:"
   ]
  },
  {
   "cell_type": "code",
   "execution_count": null,
   "metadata": {},
   "outputs": [],
   "source": [
    "data = data.loc[data.O1Region == '11']\n",
    "data = data.loc[(data.CenLon > 2.5) & (data.CenLat > 43.2)]\n",
    "data.plot(kind='scatter', x='CenLon', y='CenLat');"
   ]
  },
  {
   "cell_type": "code",
   "execution_count": null,
   "metadata": {
    "scrolled": true
   },
   "outputs": [],
   "source": [
    "data_ts = []\n",
    "data_ts_uq = []\n",
    "for rcp in ['rcp26', 'rcp45', 'rcp85']:\n",
    "    df = pd.read_csv('data/ZekollariHussFarinotti_TC2019_volume_{}.csv'.format(rcp), header=1, index_col=0).T\n",
    "    df.columns = ['RGI60-11.{:05d}'.format(i) for i in df.columns]\n",
    "    df = df[data.index]\n",
    "    df.index = np.array(df.index).astype(int)\n",
    "    data_ts.append(xr.DataArray(df, dims=['year', 'rgi_id']))\n",
    "    df = pd.read_csv('data/ZekollariHussFarinotti_TC2019_volume_RCMspread_{}.csv'.format(rcp), header=1, index_col=0).T\n",
    "    df.columns = ['RGI60-11.{:05d}'.format(i) for i in df.columns]\n",
    "    df = df[data.index]\n",
    "    df.index = np.array(df.index).astype(int)\n",
    "    data_ts_uq.append(xr.DataArray(df, dims=['year', 'rgi_id']))\n"
   ]
  },
  {
   "cell_type": "code",
   "execution_count": null,
   "metadata": {},
   "outputs": [],
   "source": [
    "ds = xr.concat(data_ts, dim='rcp')\n",
    "ds.coords['rcp'] = ['RCP2.6', 'RCP4.5', 'RCP8.5']\n",
    "ds_uq = xr.concat(data_ts_uq, dim='rcp')\n",
    "ds_uq.coords['rcp'] = ['RCP2.6', 'RCP4.5', 'RCP8.5']"
   ]
  },
  {
   "cell_type": "markdown",
   "metadata": {},
   "source": [
    "## Create the plot "
   ]
  },
  {
   "cell_type": "markdown",
   "metadata": {},
   "source": [
    "A multiline plot per selection of glaciers:"
   ]
  },
  {
   "cell_type": "code",
   "execution_count": null,
   "metadata": {},
   "outputs": [],
   "source": [
    "hover = HoverTool(tooltips=[('Year', '@{year}'), \n",
    "                            ('Volume (% 2017)', '@{Volume (% 2017)}{int}'),\n",
    "                            ('+σ', '@{+σ}{int}'),\n",
    "                            ('-σ', '@{-σ}{int}'),\n",
    "                           ], \n",
    "                  mode='mouse')\n",
    "\n",
    "def sel_glaciers(rgi_ids):\n",
    "    sel = ds.sel(rgi_id=tolist(rgi_ids)).sum(dim='rgi_id')\n",
    "    sel_t = (ds + ds_uq).sel(rgi_id=tolist(rgi_ids)).sum(dim='rgi_id')\n",
    "    sel_b = (ds - ds_uq).sel(rgi_id=tolist(rgi_ids)).sum(dim='rgi_id')\n",
    "    sel_t = sel_t / sel.isel(year=0) * 100\n",
    "    sel_b = sel_b / sel.isel(year=0) * 100\n",
    "    sel = sel / sel.isel(year=0) * 100\n",
    "    return sel, sel_b, sel_t\n",
    "\n",
    "def make_curve(rgi_ids, rcp=None, line_dash=(0, 0), add_label='Selected region ', color='#30a2da'):\n",
    "    \n",
    "    sel, sel_b, sel_t = sel_glaciers(rgi_ids)\n",
    "    df = sel.sel(rcp=rcp).to_dataframe(name='Volume (% 2017)')\n",
    "    df['+σ'] = sel_t.sel(rcp=rcp).to_series().clip(0)\n",
    "    df['-σ'] = sel_b.sel(rcp=rcp).to_series().clip(0)\n",
    "    \n",
    "    return hv.Curve(df, vdims=['Volume (% 2017)', 'rcp', '+σ', '-σ'], \n",
    "                    kdims=['year'], \n",
    "                    label=add_label+rcp).opts(tools=['hover'], line_dash=line_dash, color=color) \n",
    "              \n",
    "\n",
    "def sel_overlay(rgi_ids, line_dash=(0, 0), add_label='Selected region: '):\n",
    "    return hv.Overlay(\n",
    "              make_curve(rgi_ids, rcp='RCP2.6', line_dash=line_dash, add_label=add_label, color='#30a2da') *\n",
    "              make_curve(rgi_ids, rcp='RCP4.5', line_dash=line_dash, add_label=add_label, color='#e5ae38') *\n",
    "              make_curve(rgi_ids, rcp='RCP8.5', line_dash=line_dash, add_label=add_label, color='#fc4f30')\n",
    "            )"
   ]
  },
  {
   "cell_type": "markdown",
   "metadata": {},
   "source": [
    "Define the regions:"
   ]
  },
  {
   "cell_type": "code",
   "execution_count": null,
   "metadata": {},
   "outputs": [],
   "source": [
    "curve_dict = OrderedDict()\n",
    "curve_dict['Entire Alps'] = sel_overlay(data.index)\n",
    "for c in data.Country_Name.unique():\n",
    "    if c == 'Slovenia':\n",
    "        continue\n",
    "    curve_dict[c] = sel_overlay(data.loc[data.Country_Name==c].index)\n",
    "curve_dict['Oetztal/Pitzal'] = sel_overlay(['RGI60-11.00670', 'RGI60-11.00666', 'RGI60-11.00663', 'RGI60-11.00648', 'RGI60-11.00674'])\n",
    "\n",
    "# This could be added at whish\n",
    "# curve_dict['Brunnenkogelferner'] = sel_overlay('RGI60-11.00670')\n",
    "# curve_dict['Mittelberferner'] = sel_overlay('RGI60-11.00666')\n",
    "# curve_dict['Karlesferner'] = sel_overlay('RGI60-11.00663')\n",
    "# curve_dict['Rettenbachferner'] = sel_overlay('RGI60-11.00648')\n",
    "# curve_dict['Tiefenbachferner'] = sel_overlay('RGI60-11.00674')"
   ]
  },
  {
   "cell_type": "code",
   "execution_count": null,
   "metadata": {},
   "outputs": [],
   "source": [
    "hmap = hv.HoloMap(curve_dict, kdims='Region', sort=False)\n",
    "fplot = sel_overlay(data.index, line_dash=(4, 4), add_label='Entire Alps: ').opts(tools=['hover']) * hmap.opts(tools=['hover']) \n",
    "fplot = fplot.opts(width=900, height=500, fontsize={'title': 16, 'labels': 14, 'xticks': 12, 'yticks': 12, 'legend':12})"
   ]
  },
  {
   "cell_type": "markdown",
   "metadata": {},
   "source": [
    "## Homepage texts and logos"
   ]
  },
  {
   "cell_type": "code",
   "execution_count": null,
   "metadata": {},
   "outputs": [],
   "source": [
    "title = pn.pane.Markdown(sizing_mode='stretch_height', width=1080)\n",
    "title.object = '<div style=\"font-size:38px; color: #326a86; font-weight: bold\" >{}</div>'.format(trads['Title'][language])\n",
    "#where to find this logo?\n",
    "oggm_logo   = '<a href=\"http://edu.oggm.org\"><img src=\"https://raw.githubusercontent.com/zschirmeister/glacier-gallery/master/oggm_loupe.png\" width=220></a>'\n",
    "pn_logo = '<a href=\"https://panel.pyviz.org\"><img src=\"https://panel.pyviz.org/_static/logo_stacked.png\" width=46 height=39></a>'\n",
    "holo_logo = '<a href=\"https://holoviz.org/\"><img src=\"https://raw.githubusercontent.com/pyviz/holoviews/master/doc/_static/logo.png\" width=46 height=39></a>'"
   ]
  },
  {
   "cell_type": "code",
   "execution_count": null,
   "metadata": {},
   "outputs": [],
   "source": [
    "intro_text = trads['instruction'][language]\n",
    "instruction = pn.pane.Markdown('<span style=\"color:#326a86;font-size:15px\">'+intro_text+'</span>')\n",
    "#sel_region = '<div>{}</div>'.format(trads['sel_region'][language])"
   ]
  },
  {
   "cell_type": "code",
   "execution_count": null,
   "metadata": {},
   "outputs": [],
   "source": [
    "logos = pn.Row(pn_logo, holo_logo)\n",
    "header = pn.Column(pn.Pane(oggm_logo), pn.Spacer(height=17), logos)\n",
    "source = pn.pane.Markdown('Data source: [Zekollari et al. (2019)](https://www.the-cryosphere.net/13/1125/2019/)', width=500)\n",
    "app = pn.Column(header, title, instruction, fplot, source)\n",
    "# app.servable(title='Future glacier evolution in the Alps')"
   ]
  },
  {
   "cell_type": "code",
   "execution_count": null,
   "metadata": {
    "scrolled": false
   },
   "outputs": [],
   "source": [
    "# transform app to model and save it as html-document:\n",
    "app_to_save = pn.panel(app)\n",
    "app_to_save.save('alps_future-app.html', embed=True, title='Future glacier evolution in the European Alps')"
   ]
  },
  {
   "cell_type": "code",
   "execution_count": null,
   "metadata": {},
   "outputs": [],
   "source": []
  }
 ],
 "metadata": {
  "hide_input": false,
  "kernelspec": {
   "display_name": "Python 3",
   "language": "python",
   "name": "python3"
  },
  "language_info": {
   "codemirror_mode": {
    "name": "ipython",
    "version": 3
   },
   "file_extension": ".py",
   "mimetype": "text/x-python",
   "name": "python",
   "nbconvert_exporter": "python",
   "pygments_lexer": "ipython3",
   "version": "3.6.10"
  },
  "latex_envs": {
   "LaTeX_envs_menu_present": true,
   "autoclose": false,
   "autocomplete": true,
   "bibliofile": "biblio.bib",
   "cite_by": "apalike",
   "current_citInitial": 1,
   "eqLabelWithNumbers": true,
   "eqNumInitial": 1,
   "hotkeys": {
    "equation": "Ctrl-E",
    "itemize": "Ctrl-I"
   },
   "labels_anchors": false,
   "latex_user_defs": false,
   "report_style_numbering": false,
   "user_envs_cfg": false
  },
  "nbTranslate": {
   "displayLangs": [
    "*"
   ],
   "hotkey": "alt-t",
   "langInMainMenu": true,
   "sourceLang": "en",
   "targetLang": "fr",
   "useGoogleTranslate": true
  },
  "toc": {
   "base_numbering": 1,
   "nav_menu": {},
   "number_sections": false,
   "sideBar": true,
   "skip_h1_title": true,
   "title_cell": "Table of Contents",
   "title_sidebar": "Contents",
   "toc_cell": false,
   "toc_position": {},
   "toc_section_display": true,
   "toc_window_display": false
  }
 },
 "nbformat": 4,
 "nbformat_minor": 4
}
